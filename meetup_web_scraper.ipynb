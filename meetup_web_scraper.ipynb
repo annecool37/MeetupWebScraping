{
 "cells": [
  {
   "cell_type": "code",
   "execution_count": 1,
   "metadata": {
    "collapsed": true
   },
   "outputs": [],
   "source": [
    "# NYC Data Science Academy\n",
    "# Web Scrapping Project\n",
    "# meetup.com analysis and number of participants prediction\n",
    "# Chia-An Chen\n",
    "# 08/14/2016"
   ]
  },
  {
   "cell_type": "code",
   "execution_count": 1,
   "metadata": {
    "collapsed": false
   },
   "outputs": [],
   "source": [
    "# import modules\n",
    "from bs4 import BeautifulSoup\n",
    "import requests\n",
    "import re\n",
    "import datetime\n",
    "import time\n",
    "import numpy as np\n",
    "import pandas as pd\n",
    "import json\n",
    "from selenium import webdriver\n",
    "from selenium.webdriver.common.by import By\n",
    "from selenium.webdriver.support import expected_conditions as EC\n",
    "from selenium.webdriver.support.ui import WebDriverWait"
   ]
  },
  {
   "cell_type": "code",
   "execution_count": 2,
   "metadata": {
    "collapsed": false
   },
   "outputs": [],
   "source": [
    "def create_url_dict(radius):\n",
    "    '''create url dictionary for 10 cities in the US'''\n",
    "    ny_url = \"http://www.meetup.com/find/events/?allMeetups=true&radius=\"+str(radius)+\"&userFreeform=Manhattan%2C+New+York%2C+USA&mcId=c10001&mcName=New+York%2C+NY&eventFilter=all\"\n",
    "    sf_url = \"https://www.meetup.com/find/events/?allMeetups=true&radius=\"+str(radius)+\"&userFreeform=sanfrancisco&gcResults=San+Francisco%2C+CA%2C+USA%3AUS%3ACalifornia%3ASan+Francisco+County%3ASan+Francisco%3Anull%3Anull%3A37.7749295%3A-122.41941550000001&change=yes\"\n",
    "    chicago_url = \"https://www.meetup.com/find/events/?allMeetups=true&radius=\"+str(radius)+\"&userFreeform=chicago&mcId=c60601&gcResults=Chicago%2C+IL%2C+USA%3AUS%3AIllinois%3ACook+County%3AChicago%3Anull%3Anull%3A41.8781136%3A-87.62979819999998&change=yes\"\n",
    "    dc_url = \"https://www.meetup.com/find/events/?allMeetups=true&radius=\"+str(radius)+\"&userFreeform=washington&gcResults=Washington%2C+DC%2C+USA%3AUS%3ADistrict+of+Columbia%3ADistrict+of+Columbia%3AWashington%3Anull%3Anull%3A38.9071923%3A-77.03687070000001%7CWashington%2C+UT%2C+USA%3AUS%3AUtah%3AWashington+County%3AWashington%3Anull%3Anull%3A37.1305373%3A-113.50828669999999%7CWashington%2C+IA+52353%2C+USA%3AUS%3AIowa%3AWashington+County%3AWashington%3Anull%3A52353%3A41.30140770000001%3A-91.69164169999999%7CWashington%2C+GA+30673%2C+USA%3AUS%3AGeorgia%3AWilkes+County%3AWashington%3Anull%3A30673%3A33.7367948%3A-82.73930889999997%7CWashington%2C+VA+22747%2C+USA%3AUS%3AVirginia%3ARappahannock+County%3AWashington%3Anull%3A22747%3A38.7134519%3A-78.15944389999999%7CWashington%2C+WV+26181%2C+USA%3AUS%3AWest+Virginia%3AWood+County%3AWashington%3Anull%3A26181%3A39.244853%3A-81.66377649999998&change=yes\"\n",
    "    palo_alto_url = \"https://www.meetup.com/find/events/?allMeetups=true&radius=\"+str(radius)+\"&userFreeform=palo+alto&gcResults=Palo+Alto%2C+CA%2C+USA%3AUS%3ACalifornia%3ASanta+Clara+County%3APalo+Alto%3Anull%3Anull%3A37.4418834%3A-122.14301949999998%7CPalo+Alto%2C+PA%2C+USA%3AUS%3APennsylvania%3ASchuylkill+County%3APalo+Alto%3Anull%3Anull%3A40.6873122%3A-76.17216410000003&change=yes\"\n",
    "    boston_url = \"https://www.meetup.com/find/events/?allMeetups=true&radius=\"+str(radius)+\"&userFreeform=boston&gcResults=Boston%2C+MA%2C+USA%3AUS%3AMassachusetts%3ASuffolk+County%3ABoston%3Anull%3Anull%3A42.3600825%3A-71.05888010000001%7CBoston%2C+NY+14025%2C+USA%3AUS%3ANew+York%3AErie+County%3ABoston%3Anull%3A14025%3A42.6289495%3A-78.73752890000003%7CBoston%2C+KY+40107%2C+USA%3AUS%3AKentucky%3ANelson+County%3ABoston%3Anull%3A40107%3A37.787563%3A-85.67273740000002%7CBoston%2C+GA+31626%2C+USA%3AUS%3AGeorgia%3AThomas+County%3ABoston%3Anull%3A31626%3A30.7918613%3A-83.78988679999998%7CBoston%2C+VA+22713%2C+USA%3AUS%3AVirginia%3ACulpeper+County%3ABoston%3Anull%3A22713%3A38.5421671%3A-78.13227330000001%7CBoston%2C+IN%2C+USA%3AUS%3AIndiana%3AWayne+County%3ABoston%3Anull%3Anull%3A39.74116009999999%3A-84.85190339999997&change=yes\"\n",
    "    la_url = \"https://www.meetup.com/find/events/?allMeetups=true&radius=\"+str(radius)+\"&userFreeform=Los+Angeles%2C+California%2C+USA&mcId=c90001&gcResults=Boston%2C+MA%2C+USA%3AUS%3AMassachusetts%3ASuffolk+County%3ABoston%3Anull%3Anull%3A42.3600825%3A-71.05888010000001%7CBoston%2C+NY+14025%2C+USA%3AUS%3ANew+York%3AErie+County%3ABoston%3Anull%3A14025%3A42.6289495%3A-78.73752890000003%7CBoston%2C+KY+40107%2C+USA%3AUS%3AKentucky%3ANelson+County%3ABoston%3Anull%3A40107%3A37.787563%3A-85.67273740000002%7CBoston%2C+GA+31626%2C+USA%3AUS%3AGeorgia%3AThomas+County%3ABoston%3Anull%3A31626%3A30.7918613%3A-83.78988679999998%7CBoston%2C+VA+22713%2C+USA%3AUS%3AVirginia%3ACulpeper+County%3ABoston%3Anull%3A22713%3A38.5421671%3A-78.13227330000001%7CBoston%2C+IN%2C+USA%3AUS%3AIndiana%3AWayne+County%3ABoston%3Anull%3Anull%3A39.74116009999999%3A-84.85190339999997&change=yes\"\n",
    "    mv_url = \"https://www.meetup.com/find/events/?allMeetups=true&radius=\"+str(radius)+\"&userFreeform=mountain+view&gcResults=Mountain+View%2C+CA%2C+USA%3AUS%3ACalifornia%3ASanta+Clara+County%3AMountain+View%3Anull%3Anull%3A37.3860517%3A-122.0838511%7CMountain+View%2C+AR+72560%2C+USA%3AUS%3AArkansas%3AStone+County%3AMountain+View%3Anull%3A72560%3A35.8684075%3A-92.11765209999999%7CMountain+View%2C+HI%2C+USA%3AUS%3AHawaii%3AHawaii+County%3AMountain+View%3Anull%3Anull%3A19.5558333%3A-155.1080556%7CMountain+View%2C+WY+82933%2C+USA%3AUS%3AWyoming%3AUinta+County%3AMountain+View%3Anull%3A82933%3A41.2688392%3A-110.3398785%7CMountain+View%2C+CO+80212%2C+USA%3AUS%3AColorado%3AJefferson+County%3AMountain+View%3Anull%3A80212%3A39.7744311%3A-105.05553889999999%7CMountain+View%2C+OK+73062%2C+USA%3AUS%3AOklahoma%3AKiowa+County%3AMountain+View%3Anull%3A73062%3A35.0975577%3A-98.74645520000001&change=yes\"\n",
    "    sea_url = \"https://www.meetup.com/find/events/?allMeetups=true&radius=\"+str(radius)+\"&userFreeform=seattle&gcResults=Seattle%2C+WA%2C+USA%3AUS%3AWashington%3AKing+County%3ASeattle%3Anull%3Anull%3A47.6062095%3A-122.3320708&change=yes\"\n",
    "    austin_url = \"https://www.meetup.com/find/events/?allMeetups=true&radius=\"+str(radius)+\"&userFreeform=austin&gcResults=Austin%2C+TX%2C+USA%3AUS%3ATexas%3ATravis+County%3AAustin%3Anull%3Anull%3A30.267153%3A-97.74306079999997%7CAustin%2C+MN+55912%2C+USA%3AUS%3AMinnesota%3AMower+County%3AAustin%3Anull%3A55912%3A43.6666296%3A-92.97463670000002%7CAustin%2C+IN+47102%2C+USA%3AUS%3AIndiana%3AScott+County%3AAustin%3Anull%3A47102%3A38.7415038%3A-85.80595819999996%7CAustin%2C+NV+89310%2C+USA%3AUS%3ANevada%3ALander+County%3AAustin%3Anull%3A89310%3A39.49257009999999%3A-117.0672356%7CAustin%2C+AR+72007%2C+USA%3AUS%3AArkansas%3ALonoke+County%3AAustin%3Anull%3A72007%3A34.9984206%3A-91.98375520000002%7CAustin%2C+KY+42123%2C+USA%3AUS%3AKentucky%3ABarren+County%3AAustin%3Anull%3A42123%3A36.8253279%3A-86.01914779999998&change=yes\"\n",
    "    url_dict = {'ny': ny_url, 'sf': sf_url, 'chicago': chicago_url, 'dc': dc_url, 'palo_alto': palo_alto_url,\\\n",
    "              'boston': boston_url, 'la': la_url, 'mountain_view': mv_url, 'seattle': sea_url, 'austin': austin_url}\n",
    "    return url_dict"
   ]
  },
  {
   "cell_type": "code",
   "execution_count": 3,
   "metadata": {
    "collapsed": false
   },
   "outputs": [],
   "source": [
    "def get_meet_up_soup(url, to_which_date):\n",
    "    '''create the master meetup soup'''\n",
    "    # create driver for website\n",
    "    driver = webdriver.Chrome('/Users/annecool37/Documents/chromedriver')\n",
    "    # wait 10 sec \n",
    "    driver.implicitly_wait(10)\n",
    "    # pass the url to Chrome\n",
    "    driver.get(url)\n",
    "    # locate and click the \"Show more\" button at the bottom\n",
    "    btn = driver.find_element_by_class_name('simple-post-result-wrap')\n",
    "    btn.click()\n",
    "    driver.implicitly_wait(10)\n",
    "    html = driver.page_source\n",
    "    temp_soup = BeautifulSoup(html, 'lxml')\n",
    "    # Scrape all data till 'to_which_date'\n",
    "    while to_which_date not in temp_soup.find('div', {'id':'docked-event-date'}).get_text():    \n",
    "        # scroll to the bottom to reveal more events\n",
    "        driver.execute_script(\"window.scrollTo(0, document.body.scrollHeight);\")\n",
    "        time.sleep(1)\n",
    "        # update html\n",
    "        html = driver.page_source\n",
    "        # convert html into a beautifulsoup object\n",
    "        temp_soup = BeautifulSoup(html, 'lxml')\n",
    "    return temp_soup"
   ]
  },
  {
   "cell_type": "code",
   "execution_count": 4,
   "metadata": {
    "collapsed": false
   },
   "outputs": [],
   "source": [
    "def catch(func, handle=lambda e : e, *args, **kwargs):\n",
    "    '''Catch exception and return NA if no such attribute is found'''\n",
    "    try:\n",
    "        return func(*args, **kwargs)\n",
    "    except Exception as e:\n",
    "        return 'NA'"
   ]
  },
  {
   "cell_type": "code",
   "execution_count": 5,
   "metadata": {
    "collapsed": true
   },
   "outputs": [],
   "source": [
    "def catch_yes_no(func, handle=lambda e : e, *args, **kwargs):\n",
    "    '''Catch exception. Return yes if the option exists, else return no'''\n",
    "    try:\n",
    "        func(*args, **kwargs)\n",
    "        return 'Yes'\n",
    "    except Exception as e:\n",
    "        return 'No'"
   ]
  },
  {
   "cell_type": "code",
   "execution_count": 6,
   "metadata": {
    "collapsed": false
   },
   "outputs": [],
   "source": [
    "def get_name_title(soup):\n",
    "    '''get group name and event title'''\n",
    "    titleTags = soup.find_all('span', {'itemprop': \"name\"})\n",
    "    event_titles = []\n",
    "    group_names = []\n",
    "    for i in range(0,len(titleTags),2):\n",
    "        group_names.append(titleTags[i].get_text()) \n",
    "        event_titles.append(titleTags[i+1].get_text()) \n",
    "    return [group_names, event_titles]"
   ]
  },
  {
   "cell_type": "code",
   "execution_count": 7,
   "metadata": {
    "collapsed": true
   },
   "outputs": [],
   "source": [
    "def get_participant_count(meet_up_soup):\n",
    "    '''get number of participants '''\n",
    "    numPeopleTags = meet_up_soup.find_all('div', {'class': \"attendee-count\"})\n",
    "    participant_count = [catch(lambda: int(re.search(r'\\d+', tag.get_text()).group()))\\\n",
    "                         for tag in numPeopleTags]\n",
    "    return participant_count"
   ]
  },
  {
   "cell_type": "code",
   "execution_count": 8,
   "metadata": {
    "collapsed": true
   },
   "outputs": [],
   "source": [
    "def event_url_to_html(meet_up_soup):\n",
    "    '''convert all event url to beautifulsoup objects'''\n",
    "    # get event urls\n",
    "    event_soup = meet_up_soup.find_all('div', 'row-item row-item--shrink text--secondary')\n",
    "    event_url_lst = [(e.a)['href'] for e in event_soup]\n",
    "    # parse all event url the into html\n",
    "    event_html_lst = [BeautifulSoup(requests.get(url).text, 'lxml') for url in event_url_lst]\n",
    "    return event_html_lst"
   ]
  },
  {
   "cell_type": "code",
   "execution_count": 10,
   "metadata": {
    "collapsed": false
   },
   "outputs": [],
   "source": [
    "def get_event_time(event_html_lst): \n",
    "    '''get event date and event start time'''\n",
    "    event_time_soup = [catch(lambda: html.find('time')) for html in event_html_lst]\n",
    "    # date format example 2016-08-05\n",
    "    event_date_lst = [catch(lambda: time['datetime'][0:10]) for time in event_time_soup]\n",
    "    # start time format example 15:30\n",
    "    start_time_lst = [catch(lambda: time['datetime'][11:16]) for time in event_time_soup]\n",
    "    return [event_date_lst, start_time_lst]"
   ]
  },
  {
   "cell_type": "code",
   "execution_count": 11,
   "metadata": {
    "collapsed": true
   },
   "outputs": [],
   "source": [
    "def get_address(event_html_lst):\n",
    "    '''get event address and extract the county and state'''\n",
    "    location_soup = [html.find_all('p', {'class':'event-where-address small'})\\\n",
    "                     for html in event_html_lst]\n",
    "    location_lst = [catch(lambda: location[0].get_text()) for location in location_soup]\n",
    "    county_state_lst = [catch(lambda: location.split(\",\")[-2][1:]+','+location.split(\",\")[-1][0:3]) for location in location_lst]\n",
    "    return county_state_lst"
   ]
  },
  {
   "cell_type": "code",
   "execution_count": 12,
   "metadata": {
    "collapsed": false
   },
   "outputs": [],
   "source": [
    "def get_price(event_html_lst):\n",
    "    '''get price of event, record as NA if no price is listed'''\n",
    "    price_soup = [html.find('div', {'id':'event-fee-display'}) for html in event_html_lst]\n",
    "    price_lst = [catch(lambda: float(str(price_tag.get_text()).split()[1][1:])) for price_tag in price_soup]\n",
    "    return price_lst"
   ]
  },
  {
   "cell_type": "code",
   "execution_count": 13,
   "metadata": {
    "collapsed": true
   },
   "outputs": [],
   "source": [
    "def get_comment_reply_count(event_html_lst):\n",
    "    '''get number of comments and replies in events'''\n",
    "    comment_soup = [html.find_all('ul', {'id':'conversation'}) for html in event_html_lst]\n",
    "    # get count of comment and reply\n",
    "    comment_count_lst =[catch(lambda: len(comment_tags[0].find_all('li', {'data-commenttype': 'COMMENT'})))\\\n",
    "                        for comment_tags in comment_soup]\n",
    "    reply_count_lst =[catch(lambda: len(comment_tags[0].find_all('li', {'data-commenttype': 'REPLY'})))\\\n",
    "                      for comment_tags in comment_soup]\n",
    "    return [comment_count_lst, reply_count_lst]"
   ]
  },
  {
   "cell_type": "code",
   "execution_count": 14,
   "metadata": {
    "collapsed": true
   },
   "outputs": [],
   "source": [
    "def get_group_info(event_html_lst):\n",
    "    '''get basic info of the group hosting this event\n",
    "    get meet_up group size, num of group review,\n",
    "    num of up coming meetups, and num of past meetups\n",
    "    '''\n",
    "    member_soup = [html.find_all('ul', {'class':'paddedList small margin-bottom'}) for html in event_html_lst]\n",
    "    gr_size_lst = [catch(lambda: soup[0].find_all('span')[1].get_text()) for soup in member_soup]\n",
    "    gr_review_count_lst = [catch(lambda: soup[0].find_all('span')[3].get_text()) for soup in member_soup]\n",
    "    gr_upcoming_count_lst = [catch(lambda: soup[0].find_all('span')[5].get_text()) for soup in member_soup]\n",
    "    gr_past_meetup_count_lst = [catch(lambda: soup[0].find_all('span')[7].get_text()) for soup in member_soup]\n",
    "    return [gr_size_lst, gr_review_count_lst, gr_upcoming_count_lst, gr_past_meetup_count_lst]"
   ]
  },
  {
   "cell_type": "code",
   "execution_count": 15,
   "metadata": {
    "collapsed": true
   },
   "outputs": [],
   "source": [
    "def get_founded_time(event_html_lst):\n",
    "    '''get the founded date for the event-hosting group'''\n",
    "    # Note: if the code is too slow, remove all catch function since all group should have the founded year...\n",
    "    founded_date_tags = [catch(lambda: html.find_all('div', {'class':'small margin-bottom'})[0]) for html in event_html_lst]\n",
    "    date_founded = [catch(lambda: reduce(lambda x,y: x+\" \"+y, tag.get_text().split()[1:])) for tag in founded_date_tags]\n",
    "    date_founded_formatted_lst = [catch(lambda: datetime.datetime.strptime(date, '%b %d, %Y').strftime('%Y-%m-%d')) for date in date_founded] \n",
    "    return date_founded_formatted_lst"
   ]
  },
  {
   "cell_type": "code",
   "execution_count": 16,
   "metadata": {
    "collapsed": true
   },
   "outputs": [],
   "source": [
    "def get_keywords(event_html_lst):\n",
    "    '''get group keywords'''\n",
    "    keyword_soup = [html.find_all('div', {'id':re.compile('^topicList')})\\\n",
    "                    for html in event_html_lst]\n",
    "    keyword_tags = [catch(lambda: soup[0].find_all('a')) for soup in keyword_soup]\n",
    "    # a nested lst: [[keyword for group 1], [keyword for group 2],.....]\n",
    "    group_keywords = [[catch(lambda: tag.get_text()) for tag in keyword]\\\n",
    "                      for keyword in keyword_tags]\n",
    "    return group_keywords"
   ]
  },
  {
   "cell_type": "code",
   "execution_count": 17,
   "metadata": {
    "collapsed": true
   },
   "outputs": [],
   "source": [
    "def get_sponsor_count(event_html_lst):\n",
    "    '''get number of sponsors in the group that hosts this event'''\n",
    "    sponsor_urls = [catch(lambda: html.find_all('a', {'href': re.compile('sponsors')})[0].get('href'))\\\n",
    "                          for html in event_html_lst]\n",
    "    # convert teh sponsor link into beautiful soup object\n",
    "    sponsor_htmls = [catch(lambda: BeautifulSoup(requests.get(url).text, 'lxml')) for url in sponsor_urls]\n",
    "    # count the number of sponsor\n",
    "    sponsor_count_lst = [catch(lambda: len(html.find('ul', {'id': 'sponsors-list'}).find_all('li'))) \\\n",
    "                         for html in sponsor_htmls]\n",
    "    return sponsor_count_lst\n",
    "#     # a simple list recording if the group is being sponsored (yes/no)\n",
    "#     sponsor_yn_lst = [catch_yes_no(lambda: len(html.find('ul', {'id': 'sponsors-list'}).find_all('li'))) for html in sponsor_htmls]    \n",
    "#     return [sponsor_count_lst, sponsor_yn_lst]"
   ]
  },
  {
   "cell_type": "code",
   "execution_count": 18,
   "metadata": {
    "collapsed": true
   },
   "outputs": [],
   "source": [
    "def check_policy_privacy(event_html_lst):\n",
    "    '''check group approval policy and event privacy'''\n",
    "    # private event is depedent on approval factor...?\n",
    "    is_private_group = [catch_yes_no(lambda: html.find('p',{'class':'urf-notice urf-notice-private'}).get_text())\\\n",
    "                        for html in event_html_lst]\n",
    "    approval_needed_group = [catch_yes_no(lambda: html.find('p',{'class':'urf-notice urf-notice-approval-only'}).get_text())\\\n",
    "                             for html in event_html_lst]\n",
    "    # open_group = [catch_yes_no(lambda: html.find('p',{'class':'urf-notice urf-notice-open'}).get_text()) for html in event_html_lst]\n",
    "    # open group did not have the opposite result of approval needed group... why?\n",
    "    # only the private evnt will have notoce-approval & notice-open options?\n",
    "    return [is_private_group, approval_needed_group]"
   ]
  },
  {
   "cell_type": "code",
   "execution_count": 19,
   "metadata": {
    "collapsed": true
   },
   "outputs": [],
   "source": [
    "def get_related_group(event_html_lst):\n",
    "    '''get related group: check which meetup groups that people in this group are also in'''\n",
    "    other_soup = [catch(lambda: html.find_all('div', {'class':'nearby-description'})) for html in event_html_lst]\n",
    "    other_meetup_lst = [[catch(lambda: tag.find('a', {'class':'omnCamp omngj_sj35'}).get_text()) for tag in tags] for tags in other_soup]\n",
    "    return other_meetup_lst"
   ]
  },
  {
   "cell_type": "code",
   "execution_count": 20,
   "metadata": {
    "collapsed": false
   },
   "outputs": [],
   "source": [
    "def to_dict(key_lst, value_lst):\n",
    "    '''create dictionary to flatten nested list'''\n",
    "    dic = {}\n",
    "    for i in range(0,len(key_lst)):\n",
    "        dic[key_lst[i]] = value_lst[i]\n",
    "    return dic"
   ]
  },
  {
   "cell_type": "code",
   "execution_count": 21,
   "metadata": {
    "collapsed": true
   },
   "outputs": [],
   "source": [
    "def write_json(city, which, dic):\n",
    "    '''write dictionary to json file'''\n",
    "    filename = city + which + '.json'\n",
    "    with open(filename, 'w') as f:\n",
    "        json.dump(dic, f)"
   ]
  },
  {
   "cell_type": "code",
   "execution_count": 22,
   "metadata": {
    "collapsed": false
   },
   "outputs": [],
   "source": [
    "def unicode_to_ascii(lst):\n",
    "    '''convert unicode to ascii'''\n",
    "    # avoid raising errors later on while writing data into csv files\n",
    "    return [item.encode('ascii', 'ignore') for item in lst]"
   ]
  },
  {
   "cell_type": "code",
   "execution_count": 23,
   "metadata": {
    "collapsed": true
   },
   "outputs": [],
   "source": [
    "def main_function(radius, city, to_which_date):\n",
    "    '''The main function to get, store, and save data from meetup.com'''\n",
    "    # get start time\n",
    "    start_time = time.time()\n",
    "\n",
    "    print \"creating url dictionary...\"\n",
    "    url_dict = create_url_dict(radius)\n",
    "\n",
    "    print \"creating meet up soup...\"\n",
    "    meet_up_soup = get_meet_up_soup(url_dict[city], to_which_date)\n",
    "\n",
    "    print \"getting group name, event title, and number of participants\"\n",
    "    [group_names, event_titles]= get_name_title(meet_up_soup)\n",
    "    participant_counts = get_participant_count(meet_up_soup)\n",
    "\n",
    "    print \"converting url to html...\"\n",
    "    event_html_lst = event_url_to_html(meet_up_soup)\n",
    "\n",
    "    print \"getting event date...\"\n",
    "    [event_date_lst, event_start_time_lst] = get_event_time(event_html_lst)\n",
    "\n",
    "    print \"getting event county & state...\"\n",
    "    county_state_lst = get_address(event_html_lst)\n",
    "\n",
    "    print \"getting event price\"\n",
    "    price_lst = get_price(event_html_lst)\n",
    "\n",
    "    print \"getting event comments...\"\n",
    "    [comment_count_lst, reply_count_lst]= get_comment_reply_count(event_html_lst)\n",
    "\n",
    "    print \"getting basic info of the group hosting the event...\"\n",
    "    [member_count_lst, review_count_lst, upcoming_event_count_lst, past_meetup_count_lst] = get_group_info(event_html_lst)\n",
    "\n",
    "    print \"getting group founded date...\"\n",
    "    group_founded_date_lst = get_founded_time(event_html_lst)\n",
    "\n",
    "    print \"getting group keywords...\"\n",
    "    group_keywords_lst = get_keywords(event_html_lst)\n",
    "\n",
    "    print \"checking sponsorships....\"\n",
    "    sponsor_count_lst = get_sponsor_count(event_html_lst)\n",
    "\n",
    "    print \"checking group and event privacy...\"\n",
    "    [is_private_group, approval_needed_group]= check_policy_privacy(event_html_lst)\n",
    "\n",
    "    print \"getting related meetup groups...\"\n",
    "    related_meetup_lst = get_related_group(event_html_lst)\n",
    "    \n",
    "    # create a dictionary\n",
    "    data = {'group_name': group_names , 'event_title': event_titles,\n",
    "            'participant_count': participant_counts, 'event_date': event_date_lst, 'event_start_time': event_start_time_lst, \n",
    "            'location': county_state_lst, 'price': price_lst, 'comment_count': comment_count_lst, \n",
    "            'reply_count': reply_count_lst, 'member_count': member_count_lst, 'review_count': review_count_lst, \n",
    "            'upcoming_event_count': upcoming_event_count_lst, 'past_meetup_count': past_meetup_count_lst, \n",
    "            'founded_date': group_founded_date_lst, 'group_keywords': group_keywords_lst, \n",
    "            'sponsor_count': sponsor_count_lst, 'private_group': is_private_group, \n",
    "            'approval_needed': approval_needed_group, 'related_meetup': related_meetup_lst}\n",
    "    \n",
    "    # convert unicode to ascii if needed\n",
    "    data['group_name'] = unicode_to_ascii(data['group_name'])\n",
    "    data['event_title'] = unicode_to_ascii(data['event_title'])\n",
    "    data['location'] = unicode_to_ascii(data['location'])\n",
    "    data['group_keywords'] = [unicode_to_ascii(keywords) for keywords in data['group_keywords']]    \n",
    "    data['related_meetup'] = [unicode_to_ascii(group) for group in data['related_meetup']]    \n",
    "    \n",
    "    # {meetup group: other meetup groups that people in this group has joined}\n",
    "    group_dict = to_dict(data['group_name'] , data['related_meetup'])\n",
    "    # {meetup group: keywords of this group}\n",
    "    keyword_dict = to_dict(data['group_name'] , data['group_keywords'])\n",
    "    # write to json files\n",
    "    write_json(city, 'group', group_dict)\n",
    "    write_json(city, 'keyword', keyword_dict)\n",
    "    \n",
    "    # convert dictionary to DataFrame\n",
    "    df = pd.DataFrame(data)\n",
    "    print \"saving data to csv...\"\n",
    "    # save file to .csv\n",
    "    df.to_csv(city+'_meetup.csv')\n",
    "    print \"done!\"\n",
    "    # record end time\n",
    "    end_time = time.time()\n",
    "    print \"time spent: \" + str((end_time - start_time))\n",
    "    return data   "
   ]
  },
  {
   "cell_type": "code",
   "execution_count": 25,
   "metadata": {
    "collapsed": false
   },
   "outputs": [
    {
     "name": "stdout",
     "output_type": "stream",
     "text": [
      "creating url dictionary...\n",
      "creating meet up soup...\n",
      "getting group name, event title, and number of participants\n",
      "converting url to html...\n",
      "getting event date...\n",
      "getting event county & state...\n",
      "getting event price\n",
      "getting event comments...\n",
      "getting basic info of the group hosting the event...\n",
      "getting group founded date...\n",
      "getting group keywords...\n",
      "checking sponsorships....\n",
      "checking group and event privacy...\n",
      "getting related meetup groups...\n",
      "saving data to csv...\n",
      "done!\n",
      "time spent: 972.634635925\n",
      "collected 951 data for palo_alto\n",
      "creating url dictionary...\n",
      "creating meet up soup...\n",
      "getting group name, event title, and number of participants\n",
      "converting url to html...\n",
      "getting event date...\n",
      "getting event county & state...\n",
      "getting event price\n",
      "getting event comments...\n",
      "getting basic info of the group hosting the event...\n",
      "getting group founded date...\n",
      "getting group keywords...\n",
      "checking sponsorships....\n",
      "checking group and event privacy...\n",
      "getting related meetup groups...\n",
      "saving data to csv...\n",
      "done!\n",
      "time spent: 2519.91296005\n",
      "collected 3340 data for ny\n",
      "creating url dictionary...\n",
      "creating meet up soup...\n",
      "getting group name, event title, and number of participants\n",
      "converting url to html...\n",
      "getting event date...\n",
      "getting event county & state...\n",
      "getting event price\n",
      "getting event comments...\n",
      "getting basic info of the group hosting the event...\n",
      "getting group founded date...\n",
      "getting group keywords...\n",
      "checking sponsorships....\n",
      "checking group and event privacy...\n",
      "getting related meetup groups...\n",
      "saving data to csv...\n",
      "done!\n",
      "time spent: 1314.80837202\n",
      "collected 1579 data for seattle\n",
      "creating url dictionary...\n",
      "creating meet up soup...\n",
      "getting group name, event title, and number of participants\n",
      "converting url to html...\n",
      "getting event date...\n",
      "getting event county & state...\n",
      "getting event price\n",
      "getting event comments...\n",
      "getting basic info of the group hosting the event...\n",
      "getting group founded date...\n",
      "getting group keywords...\n",
      "checking sponsorships....\n",
      "checking group and event privacy...\n",
      "getting related meetup groups...\n",
      "saving data to csv...\n",
      "done!\n",
      "time spent: 1087.74629092\n",
      "collected 1367 data for chicago\n",
      "creating url dictionary...\n",
      "creating meet up soup...\n",
      "getting group name, event title, and number of participants\n",
      "converting url to html...\n",
      "getting event date...\n",
      "getting event county & state...\n",
      "getting event price\n",
      "getting event comments...\n",
      "getting basic info of the group hosting the event...\n",
      "getting group founded date...\n",
      "getting group keywords...\n",
      "checking sponsorships....\n",
      "checking group and event privacy...\n",
      "getting related meetup groups...\n",
      "saving data to csv...\n",
      "done!\n",
      "time spent: 1035.18520904\n",
      "collected 1342 data for boston\n",
      "creating url dictionary...\n",
      "creating meet up soup...\n",
      "getting group name, event title, and number of participants\n",
      "converting url to html...\n",
      "getting event date...\n",
      "getting event county & state...\n",
      "getting event price\n",
      "getting event comments...\n",
      "getting basic info of the group hosting the event...\n",
      "getting group founded date...\n",
      "getting group keywords...\n",
      "checking sponsorships....\n",
      "checking group and event privacy...\n",
      "getting related meetup groups...\n",
      "saving data to csv...\n",
      "done!\n",
      "time spent: 1077.12628102\n",
      "collected 1404 data for mountain_view\n",
      "creating url dictionary...\n",
      "creating meet up soup...\n",
      "getting group name, event title, and number of participants\n",
      "converting url to html...\n",
      "getting event date...\n",
      "getting event county & state...\n",
      "getting event price\n",
      "getting event comments...\n",
      "getting basic info of the group hosting the event...\n",
      "getting group founded date...\n",
      "getting group keywords...\n",
      "checking sponsorships....\n",
      "checking group and event privacy...\n",
      "getting related meetup groups...\n",
      "saving data to csv...\n",
      "done!\n",
      "time spent: 805.271956921\n",
      "collected 995 data for la\n",
      "creating url dictionary...\n",
      "creating meet up soup...\n",
      "getting group name, event title, and number of participants\n",
      "converting url to html...\n",
      "getting event date...\n",
      "getting event county & state...\n",
      "getting event price\n",
      "getting event comments...\n",
      "getting basic info of the group hosting the event...\n",
      "getting group founded date...\n",
      "getting group keywords...\n",
      "checking sponsorships....\n",
      "checking group and event privacy...\n",
      "getting related meetup groups...\n",
      "saving data to csv...\n",
      "done!\n",
      "time spent: 744.616166115\n",
      "collected 988 data for austin\n",
      "creating url dictionary...\n",
      "creating meet up soup...\n",
      "getting group name, event title, and number of participants\n",
      "converting url to html...\n",
      "getting event date...\n",
      "getting event county & state...\n",
      "getting event price\n",
      "getting event comments...\n",
      "getting basic info of the group hosting the event...\n",
      "getting group founded date...\n",
      "getting group keywords...\n",
      "checking sponsorships....\n",
      "checking group and event privacy...\n",
      "getting related meetup groups...\n",
      "saving data to csv...\n",
      "done!\n",
      "time spent: 2619.40096807\n",
      "collected 3155 data for sf\n",
      "creating url dictionary...\n",
      "creating meet up soup...\n",
      "getting group name, event title, and number of participants\n",
      "converting url to html...\n",
      "getting event date...\n",
      "getting event county & state...\n",
      "getting event price\n",
      "getting event comments...\n",
      "getting basic info of the group hosting the event...\n",
      "getting group founded date...\n",
      "getting group keywords...\n",
      "checking sponsorships....\n",
      "checking group and event privacy...\n",
      "getting related meetup groups...\n",
      "saving data to csv...\n",
      "done!\n",
      "time spent: 1699.20836687\n",
      "collected 2118 data for dc\n"
     ]
    }
   ],
   "source": [
    "# Get data from meetup.com\n",
    "# define criteria\n",
    "radius = 10\n",
    "to_which_month = 'October' \n",
    "# actually retrieve data till late October or even later due to the fast page scrolling speed\n",
    "url_dict = create_url_dict(radius)\n",
    "result_dict = {}\n",
    "for key in url_dict.keys():\n",
    "    # get data on meetup.com and save it as dictionary\n",
    "    data = main_function(radius, key, to_which_month)\n",
    "    # store result data\n",
    "    result_dict[key] = data\n",
    "    print \"collected \" + str(len(data['group_name'])) + \" data for \" + key"
   ]
  },
  {
   "cell_type": "code",
   "execution_count": 68,
   "metadata": {
    "collapsed": false
   },
   "outputs": [
    {
     "data": {
      "text/plain": [
       "['palo_alto',\n",
       " 'ny',\n",
       " 'seattle',\n",
       " 'chicago',\n",
       " 'boston',\n",
       " 'mountain_view',\n",
       " 'la',\n",
       " 'austin',\n",
       " 'sf',\n",
       " 'dc']"
      ]
     },
     "execution_count": 68,
     "metadata": {},
     "output_type": "execute_result"
    }
   ],
   "source": [
    "url_dict.keys()"
   ]
  },
  {
   "cell_type": "code",
   "execution_count": 26,
   "metadata": {
    "collapsed": false
   },
   "outputs": [
    {
     "name": "stdout",
     "output_type": "stream",
     "text": [
      "  approval_needed comment_count  event_date event_start_time  \\\n",
      "0              No             0  2016-08-10            21:00   \n",
      "1              No             3  2016-08-10            21:00   \n",
      "2              No             0  2016-08-10            21:00   \n",
      "3              No             0  2016-08-10            21:00   \n",
      "4              No             0  2016-08-11            06:15   \n",
      "\n",
      "                                         event_title founded_date  \\\n",
      "0                Karaoke at Flanagan's Harp & Fiddle   2012-01-15   \n",
      "1                                     Diet Cig @ DC9   2008-02-24   \n",
      "2  Wednesday Night Swing Dancing at Nick's Nightc...   2006-06-20   \n",
      "3           Yoga for Beginners (Free Online Webinar)   2016-03-17   \n",
      "4        14th Street Morning Track Workout- Thursday   2006-04-06   \n",
      "\n",
      "                                      group_keywords  \\\n",
      "0  [Sci-Fi/Fantasy, Social Networking, New In Tow...   \n",
      "1  [Indie Music, Music, Live Music, Concerts, Alt...   \n",
      "2                                    [Swing Dancing]   \n",
      "3  [Yoga, Vegetarian, Meditation, Law of Attracti...   \n",
      "4  [Exercise, Half Marathon, Beginner's Running, ...   \n",
      "\n",
      "                                          group_name        location  \\\n",
      "0                                      Geek Nite Out    Bethesda, MD   \n",
      "1                    DC Indie and Local Music Meetup        D.C., DC   \n",
      "2   The Northern Virginia Swing Dancing Meetup Group  Alexandria, VA   \n",
      "3  Inner Engineering DC (Isha Yoga & Meditation C...  Washington, DC   \n",
      "4                  DC Capital Striders Running Group  Washington, DC   \n",
      "\n",
      "  member_count  participant_count past_meetup_count price private_group  \\\n",
      "0        7,338                  4             1,830    NA            No   \n",
      "1        6,723                 25             1,467    NA            No   \n",
      "2          665                  3               629     6            No   \n",
      "3          232                  3                      NA            No   \n",
      "4        7,680                  5             6,949    NA            No   \n",
      "\n",
      "                                      related_meetup reply_count review_count  \\\n",
      "0  [Anti-Agoraphobics Anonymous, Network After Wo...           0           79   \n",
      "1  [The Washington Backpackers Meetup Group, Wash...           0           86   \n",
      "2  [Embassy Events in DC for Young Professionals,...           0            9   \n",
      "3  [Washington-DC- Painting Class Meetup, Tech in...           0            8   \n",
      "4  [I Run, You Run, The DC Wine Tasting Group, Un...           0          132   \n",
      "\n",
      "  sponsor_count upcoming_event_count  \n",
      "0             1                   85  \n",
      "1             1                   23  \n",
      "2            NA                   10  \n",
      "3            NA                   17  \n",
      "4             5                  147  \n",
      "(2118, 19)\n"
     ]
    }
   ],
   "source": [
    "# check the result data\n",
    "# data = result_dict['palo_alto']\n",
    "df = pd.DataFrame(data)\n",
    "print df.head(n=5)\n",
    "# double check how many was collected\n",
    "print df.shape"
   ]
  },
  {
   "cell_type": "code",
   "execution_count": 27,
   "metadata": {
    "collapsed": false
   },
   "outputs": [
    {
     "name": "stdout",
     "output_type": "stream",
     "text": [
      "[]\n",
      "[u'Camping', u'Kayaking', u'Hiking', u'Rock Climbing', u'Adventure', u'Weekend Adventures', u'Outdoor Adventures', u'Water Sports', u'Backpacking', u'Day hikes', u'Mountain Biking', u'Road Trips', u'Winter Sports', u'Skiing Snowboarding SnowShoeing & CrossCountry', u'WILDERNESS HIKING']\n",
      "NA\n",
      "[u'1,511', u'4', u'15', u'131']\n",
      "[2, 2]\n",
      "3\n",
      "New members must be approved by the Organizer\n",
      "Content of this Meetup Group is only visible to members\n",
      "2011-08-26\n",
      "[u'New York City German Culture Group', u'Manhattan Mamas', u'New York City Culture & Social Club (6,000+ members)', u'Free Events for Mom', u'German speaking playgroup - Jersey City/Hoboken', u'Yoga NYC Meetup']\n"
     ]
    }
   ],
   "source": [
    "##################################\n",
    "##################################\n",
    "## test code for just one event ##\n",
    "##################################\n",
    "##################################\n",
    "# create example html for testing\n",
    "# test_url = \"https://www.meetup.com/New-York-City-Hiking/events/230743402/\"\n",
    "test_url = \"http://www.meetup.com/New-York-Hikers-and-Backpackers-Club/\"\n",
    "test_html = BeautifulSoup(requests.get(test_url).text, 'lxml') \n",
    "# get address \n",
    "location = test_html.find_all('p', {'class':'event-where-address small'})\n",
    "address = [place.get_text() for place in location]\n",
    "print address\n",
    "\n",
    "# get group keywords \n",
    "keyword_soup = test_html.find_all('div', {'id':re.compile('^topicList')})\n",
    "keywords_tags = [word.find_all('a') for word in keyword_soup]\n",
    "keywords = [tag.get_text() for tag in keywords_tags[0]]\n",
    "print keywords\n",
    "\n",
    "# get event price\n",
    "price_tag = test_html.find('div', {'id':'event-fee-display'})\n",
    "# ['Price:', '$17.00', '/per', 'person', 'Refund', 'policy']\n",
    "print catch(lambda: float(str(price_tag.get_text())).split()[1][1:])\n",
    "\n",
    "# get meet up group size for one event\n",
    "group_info = test_html.find_all('ul', {'class':'paddedList small margin-bottom'})\n",
    "group_size = group_info[0].find_all('span')[1].get_text()\n",
    "group_review = group_info[0].find_all('span')[3].get_text()\n",
    "up_coming_meetup = group_info[0].find_all('span')[5].get_text()\n",
    "past_meetups = group_info[0].find_all('span')[7].get_text()\n",
    "print [group_size, group_review, up_coming_meetup, past_meetups]\n",
    "\n",
    "# get comment and reply count\n",
    "comment_soup = test_html.find_all('ul', {'id':'conversation'})\n",
    "num_comment = len(catch(lambda: comment_soup[0].find_all('li', {'data-commenttype': 'COMMENT'})))\n",
    "num_reply = len(catch(lambda: comment_soup[0].find_all('li', {'data-commenttype': 'REPLY'})))\n",
    "print [num_comment, num_reply]\n",
    "\n",
    "# get number of sponsor for one event\n",
    "toy_url = \"https://www.meetup.com/keepingupwithphilly/events/233042565/\"\n",
    "toy_html = BeautifulSoup(requests.get(toy_url).text, 'lxml') \n",
    "sponsor_url = toy_html.find_all('a', {'href': re.compile('sponsors')})[0].get('href')\n",
    "sponsor_html = BeautifulSoup(requests.get(sponsor_url).text, 'lxml')\n",
    "sponsor_count = len(sponsor_html.find('ul', {'id': 'sponsors-list'}).find_all('li'))\n",
    "print sponsor_count\n",
    "\n",
    "# check event privacy\n",
    "private_url = \"https://www.meetup.com/AMC-Sunday-Softball-in-Central-Park/\"\n",
    "private_html = BeautifulSoup(requests.get(private_url).text, 'lxml') \n",
    "\n",
    "# Content of this Meetup Group is only visible to members\n",
    "print private_html.find('p',{'class':'urf-notice urf-notice-approval-only'}).get_text()\n",
    "# New members must be approved by the Organizer\n",
    "print private_html.find('p',{'class':'urf-notice urf-notice-private'}).get_text()\n",
    "\n",
    "# get the time that the group was founded for this event\n",
    "toy_url = \"https://www.meetup.com/keepingupwithphilly/events/233042565/\"\n",
    "toy_html = BeautifulSoup(requests.get(toy_url).text, 'lxml') \n",
    "date_tags = toy_html.find_all('div', {'class':'small margin-bottom'})[0]\n",
    "date_founded = reduce(lambda x,y: x+\" \"+y, date_tags.get_text().split()[1:])\n",
    "date_founded_formatted = datetime.datetime.strptime(date_founded, '%b %d, %Y').strftime('%Y-%m-%d')\n",
    "print date_founded_formatted\n",
    "\n",
    "# People in this Meetup are also in which meetup? #\n",
    "toy_url = \"https://www.meetup.com/CityKinder-New-York-Meetup-Group/events/232727728/\"\n",
    "toy_html = BeautifulSoup(requests.get(toy_url).text, 'lxml') \n",
    "soup = toy_html.find_all('div', {'class':'nearby-description'})\n",
    "other_groups = [tag.find('a', {'class':'omnCamp omngj_sj35'}).get_text() for tag in soup]\n",
    "print other_groups"
   ]
  },
  {
   "cell_type": "code",
   "execution_count": 28,
   "metadata": {
    "collapsed": false
   },
   "outputs": [],
   "source": [
    "# # create driver for website\n",
    "# driver = webdriver.Chrome('/Users/annecool37/Documents/chromedriver')\n",
    "# # wait 10 sec \n",
    "# driver.implicitly_wait(10)\n",
    "# # pass the url to Chrome\n",
    "# driver.get(ny_url)\n",
    "# # locate and click the \"Show more\" button at the bottom\n",
    "# btn = driver.find_element_by_class_name('simple-post-result-wrap')\n",
    "# btn.click()\n",
    "# driver.implicitly_wait(10)\n",
    "# ## run particular round to scroll the page      \n",
    "# #for i in range(10):\n",
    "# #    # scroll to the bottom to reveal more events\n",
    "# #    driver.execute_script(\"window.scrollTo(0, document.body.scrollHeight);\")\n",
    "# #    # wait till page is load\n",
    "# #    time.sleep(5)\n",
    "# #    # WebDriverWait(driver, 30)\n",
    "# #    print i\n",
    "# html = driver.page_source\n",
    "# temp_soup = BeautifulSoup(html, 'lxml')\n",
    "# # Scrape all data before September from August Xth \n",
    "# # while \"September\" not in temp_soup.find('div', {'id':'docked-event-date'}).get_text():\n",
    "# while \"August 7\" not in temp_soup.find('div', {'id':'docked-event-date'}).get_text():    \n",
    "#     # scroll to the bottom to reveal more events\n",
    "#     driver.execute_script(\"window.scrollTo(0, document.body.scrollHeight);\")\n",
    "#     # update html\n",
    "#     html = driver.page_source\n",
    "#     # convert html into a beautifulsoup object\n",
    "#     temp_soup = BeautifulSoup(html, 'lxml')\n",
    "#     # print temp_soup.find('div', {'id':'docked-event-date'}).get_text()"
   ]
  },
  {
   "cell_type": "code",
   "execution_count": 29,
   "metadata": {
    "collapsed": true
   },
   "outputs": [],
   "source": [
    "# # if were to extract the whole meetip.com\n",
    "# # create driver for website\n",
    "# driver = webdriver.Chrome('/Users/annecool37/Documents/chromedriver')\n",
    "# # wait 10 sec \n",
    "# driver.implicitly_wait(10)\n",
    "# driver.get(\"https://www.meetup.com/\")\n",
    "# # locate and click the calendar\n",
    "# elem = driver.find_element_by_id('simple-view-selector-event') \n",
    "# elem.click()\n",
    "# # locate and click show more\n",
    "# elem = driver.find_element_by_class_name('simple-post-result-wrap') \n",
    "# elem.click()"
   ]
  },
  {
   "cell_type": "code",
   "execution_count": 30,
   "metadata": {
    "collapsed": false
   },
   "outputs": [],
   "source": [
    "# # this is a short list of event just for setting up the code\n",
    "# meet_up_soup = requests.get(ny_url).text\n",
    "# meet_up_soup = BeautifulSoup(meet_up_soup,'lxml')"
   ]
  },
  {
   "cell_type": "code",
   "execution_count": 9,
   "metadata": {
    "collapsed": true
   },
   "outputs": [],
   "source": [
    "# this function works, however, the event time collected is in EST\n",
    "# didnot convert accordingly to where city located....\n",
    "# def get_event_time(meet_up_soup): \n",
    "#     '''get event date and time'''\n",
    "#     event_soup = meet_up_soup.find_all('div', 'row-item row-item--shrink text--secondary')\n",
    "#     event_time_lst = [(e.time)['datetime'] for e in event_soup]\n",
    "#     # date format example 2016-08-05\n",
    "#     event_date_lst = [time[0:10] for time in event_time_lst]\n",
    "#     # start time format example 15:30\n",
    "#     event_start_time_lst = [time[11:16] for time in event_time_lst]\n",
    "#     # convert to weekday (Monday - Sunday)\n",
    "#     event_day_lst = [datetime.datetime.strptime(date, '%Y-%m-%d').strftime('%A')\\\n",
    "#                      for date in event_date_lst]    \n",
    "#     return [event_date_lst, event_start_time_lst, event_day_lst]\n",
    "# # datetime syntax reference : http://strftime.org"
   ]
  },
  {
   "cell_type": "code",
   "execution_count": 31,
   "metadata": {
    "collapsed": false
   },
   "outputs": [],
   "source": [
    "##################################\n",
    "## get group name (another way) ##\n",
    "##################################\n",
    "# meet_up_soup = temp_soup\n",
    "# group_names = []\n",
    "# for i, tag in enumerate(meet_up_soup.findAll('li', { 'class': 'event-listing' })):\n",
    "#     group_names.append(tag.find('span', {'itemprop': 'name'}).string)\n",
    "# num_group_name = len(group_name)\n",
    "# print 'number of observations scrapped: ' + str(num_group_name)\n",
    "# print  num_group_name == event_count\n",
    "# group_names[0:10]"
   ]
  },
  {
   "cell_type": "code",
   "execution_count": 32,
   "metadata": {
    "collapsed": true
   },
   "outputs": [],
   "source": [
    "######################\n",
    "# Miscellaneous Note #\n",
    "######################\n",
    "# find highest freqency (top 10?) word in event name\n",
    "# find highest frequency (top 10?) word in location\n",
    "# find the lontitude and latitude\n",
    "# check unique time\n",
    "# bar plot: number of participant vs. weekday\n",
    "# bar plot: number of participant vs. duration\n",
    "# other thoughts\n",
    "# implement weather into analysis?\n",
    "# model building\n",
    "# subset data into training (August ones?) and testing set (September ones?)\n",
    "# and...?"
   ]
  },
  {
   "cell_type": "code",
   "execution_count": 24,
   "metadata": {
    "collapsed": false
   },
   "outputs": [],
   "source": [
    "# def main_function(radius, city, to_which_date):\n",
    "#     '''The main function to get, store, and save data from meetup.com'''\n",
    "#     # get start time\n",
    "#     start_time = time.time()\n",
    "\n",
    "#     print \"creating url dictionary...\"\n",
    "#     url_dict = create_url_dict(radius)\n",
    "\n",
    "#     print \"creating meet up soup...\"\n",
    "#     meet_up_soup = get_meet_up_soup(url_dict[city], to_which_date)\n",
    "\n",
    "#     print \"getting group name, event title, and number of participants\"\n",
    "#     [group_names, event_titles]= get_name_title(meet_up_soup)\n",
    "#     participant_counts = get_participant_count(meet_up_soup)\n",
    "\n",
    "#     print \"converting url to html...\"\n",
    "#     event_html_lst = event_url_to_html(meet_up_soup)\n",
    "\n",
    "#     print \"getting event date...\"\n",
    "#     [event_date_lst, event_start_time_lst, event_day_lst] = get_event_time(meet_up_soup)\n",
    "\n",
    "#     print \"getting event county & state...\"\n",
    "#     county_state_lst = get_address(event_html_lst)\n",
    "\n",
    "#     print \"getting event price\"\n",
    "#     price_lst = get_price(event_html_lst)\n",
    "\n",
    "#     print \"getting event comments...\"\n",
    "#     [comment_count_lst, reply_count_lst]= get_comment_reply_count(event_html_lst)\n",
    "\n",
    "#     print \"getting basic info of the group hosting the event...\"\n",
    "#     [member_count_lst, review_count_lst, upcoming_event_count_lst, past_meetup_count_lst] = get_group_info(event_html_lst)\n",
    "\n",
    "#     print \"getting group founded date...\"\n",
    "#     group_founded_date_lst = get_founded_time(event_html_lst)\n",
    "\n",
    "#     print \"getting group keywords...\"\n",
    "#     group_keywords_lst = get_keywords(event_html_lst)\n",
    "\n",
    "#     print \"checking sponsorships....\"\n",
    "#     sponsor_count_lst = get_sponsor_count(event_html_lst)\n",
    "\n",
    "#     print \"checking group and event privacy...\"\n",
    "#     [is_private_group, approval_needed_group]= check_policy_privacy(event_html_lst)\n",
    "\n",
    "#     print \"getting related meetup groups...\"\n",
    "#     related_meetup_lst = get_related_group(event_html_lst)\n",
    "    \n",
    "#     # create a dictionary\n",
    "#     data = {'group_name': group_names , 'event_title': event_titles,\n",
    "#             'participant_count': participant_counts, 'event_date': event_date_lst, 'event_start_time': event_start_time_lst, \n",
    "#             'event_day':event_day_lst , 'location': county_state_lst, 'price': price_lst, 'comment_count': comment_count_lst, \n",
    "#             'reply_count': reply_count_lst, 'member_count': member_count_lst, 'review_count': review_count_lst, \n",
    "#             'upcoming_event_count': upcoming_event_count_lst, 'past_meetup_count': past_meetup_count_lst, \n",
    "#             'founded_date': group_founded_date_lst, 'group_keywords': group_keywords_lst, \n",
    "#             'sponsor_count': sponsor_count_lst, 'private_group': is_private_group, \n",
    "#             'approval_needed': approval_needed_group, 'related_meetup': related_meetup_lst}\n",
    "    \n",
    "#     # convert unicode to ascii if needed\n",
    "#     data['group_name'] = unicode_to_ascii(data['group_name'])\n",
    "#     data['event_title'] = unicode_to_ascii(data['event_title'])\n",
    "#     data['location'] = unicode_to_ascii(data['location'])\n",
    "#     data['group_keywords'] = [unicode_to_ascii(keywords) for keywords in data['group_keywords']]    \n",
    "#     data['related_meetup'] = [unicode_to_ascii(group) for group in data['related_meetup']]    \n",
    "    \n",
    "#     # {meetup group: other meetup groups that people in this group has joined}\n",
    "#     group_dict = to_dict(data['group_name'] , data['related_meetup'])\n",
    "#     # {meetup group: keywords of this group}\n",
    "#     keyword_dict = to_dict(data['group_name'] , data['group_keywords'])\n",
    "#     # write to json files\n",
    "#     write_json(city, 'group', group_dict)\n",
    "#     write_json(city, 'keyword', keyword_dict)\n",
    "    \n",
    "#     # convert dictionary to DataFrame\n",
    "#     df = pd.DataFrame(data)\n",
    "#     print \"saving data to csv...\"\n",
    "#     # save file to .csv\n",
    "#     df.to_csv(city+'_meetup.csv')\n",
    "#     print \"done!\"\n",
    "#     # record end time\n",
    "#     end_time = time.time()\n",
    "#     print \"time spent: \" + str((end_time - start_time))\n",
    "#     return data   "
   ]
  }
 ],
 "metadata": {
  "anaconda-cloud": {},
  "kernelspec": {
   "display_name": "Python [Root]",
   "language": "python",
   "name": "Python [Root]"
  },
  "language_info": {
   "codemirror_mode": {
    "name": "ipython",
    "version": 2
   },
   "file_extension": ".py",
   "mimetype": "text/x-python",
   "name": "python",
   "nbconvert_exporter": "python",
   "pygments_lexer": "ipython2",
   "version": "2.7.12"
  }
 },
 "nbformat": 4,
 "nbformat_minor": 0
}
